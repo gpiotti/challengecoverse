{
 "cells": [
  {
   "cell_type": "code",
   "execution_count": 51,
   "metadata": {},
   "outputs": [],
   "source": [
    "import pandas as pd\n",
    "import eland as ed\n",
    "import boto3\n",
    "BUCKET_NAME = \"conversenow\"\n",
    "S3_KEY = \"admin\"\n",
    "S3_SECRET = \"admin1234\"\n",
    "S3_URL = \"http://localhost:9000\"\n",
    "TRAINING_FILENAME = \"training_data_2020_12_31.csv\""
   ]
  },
  {
   "source": [],
   "cell_type": "markdown",
   "metadata": {}
  },
  {
   "cell_type": "code",
   "execution_count": null,
   "metadata": {},
   "outputs": [],
   "source": [
    "# Connecting to an Elasticsearch instance running on 'localhost:9200'\n",
    "df = ed.DataFrame(\"localhost:9200\", es_index_pattern=\"test1\")\n",
    "client = boto3.client(\n",
    "    's3',\n",
    "    aws_access_key_id=S3_KEY,\n",
    "    aws_secret_access_key=S3_SECRET,\n",
    "    endpoint_url=S3_URL,\n",
    ")"
   ]
  },
  {
   "source": [
    "#### Explore transcriptions in elastic search"
   ],
   "cell_type": "markdown",
   "metadata": {}
  },
  {
   "cell_type": "code",
   "execution_count": 49,
   "metadata": {},
   "outputs": [],
   "source": [
    " sampled = df[(df.sentence.es_match(\"book\")) & (df.up_votes > 1)].sample(5)\n",
    " sampled = sampled.to_pandas()\n",
    " sampled[\"path\"].to_csv(TRAINING_FILENAME, index=False)\n",
    " client.upload_file(TRAINING_FILENAME, BUCKET_NAME, f\"training_data/{TRAINING_FILENAME}\")"
   ]
  },
  {
   "source": [
    "#### Download filtered data with boto3"
   ],
   "cell_type": "markdown",
   "metadata": {}
  },
  {
   "cell_type": "code",
   "execution_count": null,
   "metadata": {},
   "outputs": [],
   "source": [
    "for ix, row in sampled.iterrows():\n",
    "    client.download_file(BUCKET_NAME,\n",
    "     f'audiofiles/{row[\"path\"]}',\n",
    "     f'downloaded/{row[\"path\"]}')"
   ]
  }
 ],
 "metadata": {
  "kernelspec": {
   "display_name": "tensorflow",
   "language": "python",
   "name": "tensorflow"
  },
  "language_info": {
   "codemirror_mode": {
    "name": "ipython",
    "version": 3
   },
   "file_extension": ".py",
   "mimetype": "text/x-python",
   "name": "python",
   "nbconvert_exporter": "python",
   "pygments_lexer": "ipython3",
   "version": "3.7.8-final"
  }
 },
 "nbformat": 4,
 "nbformat_minor": 4
}